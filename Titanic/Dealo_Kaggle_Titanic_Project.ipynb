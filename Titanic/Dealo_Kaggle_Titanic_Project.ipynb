{
 "cells": [
  {
   "cell_type": "markdown",
   "id": "7d5da293",
   "metadata": {},
   "source": [
    "# Kaggle Titanic Project"
   ]
  },
  {
   "cell_type": "markdown",
   "id": "7013ee4a",
   "metadata": {},
   "source": [
    "## Objective\n",
    "---\n",
    "\n",
    "You'll be competing in Kaggle's [Titanic - Machine Learning from Disaster](https://www.kaggle.com/c/titanic) Competition. You can download the datasets, and read the requirements of the competition using the associated link.<br>\n",
    "\n",
    "### Requirements\n",
    "---\n",
    "* **Submissions:**\n",
    "    1. Screenshot of conforimation of submission to Kaggle\n",
    "    2. Your completed notebook, following the associated outline as necessary below.\n",
    "        * Clearly structure your notebook, try to walk the reader along your experiment by making use           of clean code, efficient use of outputs, effective visualizations, and basic Markdown                 syntax to document your code."
   ]
  },
  {
   "cell_type": "markdown",
   "id": "c0aaa8e6",
   "metadata": {},
   "source": [
    "## Example\n",
    "---\n",
    "<br>\n"
   ]
  },
  {
   "cell_type": "markdown",
   "id": "b82d33da",
   "metadata": {},
   "source": [
    "## Kaggle Titanic Project Submission\n",
    "#### Dealo Mckellar"
   ]
  },
  {
   "cell_type": "markdown",
   "id": "5a3a0672",
   "metadata": {},
   "source": [
    "### Problem Definition\n",
    "Clearly and brefiely describe the question you are trying to answer or idea you are exploring."
   ]
  },
  {
   "cell_type": "markdown",
   "id": "bff67582",
   "metadata": {},
   "source": [
    "### Sourcing Data\n",
    "Quickly describe the content of the data, citing the source, and explaining why you believe this dataset can be used to solve your problem."
   ]
  },
  {
   "cell_type": "code",
   "execution_count": 1,
   "id": "0ccde905",
   "metadata": {},
   "outputs": [],
   "source": [
    "import pandas as pd\n",
    "import numpy as np\n",
    "import matplotlib.pyplot as plt\n",
    "import seaborn as sns\n",
    "from scipy.stats import iqr, norm, normaltest"
   ]
  },
  {
   "cell_type": "code",
   "execution_count": 2,
   "id": "036d8a8f",
   "metadata": {},
   "outputs": [
    {
     "data": {
      "text/html": [
       "<div>\n",
       "<style scoped>\n",
       "    .dataframe tbody tr th:only-of-type {\n",
       "        vertical-align: middle;\n",
       "    }\n",
       "\n",
       "    .dataframe tbody tr th {\n",
       "        vertical-align: top;\n",
       "    }\n",
       "\n",
       "    .dataframe thead th {\n",
       "        text-align: right;\n",
       "    }\n",
       "</style>\n",
       "<table border=\"1\" class=\"dataframe\">\n",
       "  <thead>\n",
       "    <tr style=\"text-align: right;\">\n",
       "      <th></th>\n",
       "      <th>PassengerId</th>\n",
       "      <th>Survived</th>\n",
       "      <th>Pclass</th>\n",
       "      <th>Name</th>\n",
       "      <th>Sex</th>\n",
       "      <th>Age</th>\n",
       "      <th>SibSp</th>\n",
       "      <th>Parch</th>\n",
       "      <th>Ticket</th>\n",
       "      <th>Fare</th>\n",
       "      <th>Cabin</th>\n",
       "      <th>Embarked</th>\n",
       "    </tr>\n",
       "  </thead>\n",
       "  <tbody>\n",
       "    <tr>\n",
       "      <th>0</th>\n",
       "      <td>1</td>\n",
       "      <td>0</td>\n",
       "      <td>3</td>\n",
       "      <td>Braund, Mr. Owen Harris</td>\n",
       "      <td>male</td>\n",
       "      <td>22.0</td>\n",
       "      <td>1</td>\n",
       "      <td>0</td>\n",
       "      <td>A/5 21171</td>\n",
       "      <td>7.2500</td>\n",
       "      <td>NaN</td>\n",
       "      <td>S</td>\n",
       "    </tr>\n",
       "    <tr>\n",
       "      <th>1</th>\n",
       "      <td>2</td>\n",
       "      <td>1</td>\n",
       "      <td>1</td>\n",
       "      <td>Cumings, Mrs. John Bradley (Florence Briggs Th...</td>\n",
       "      <td>female</td>\n",
       "      <td>38.0</td>\n",
       "      <td>1</td>\n",
       "      <td>0</td>\n",
       "      <td>PC 17599</td>\n",
       "      <td>71.2833</td>\n",
       "      <td>C85</td>\n",
       "      <td>C</td>\n",
       "    </tr>\n",
       "    <tr>\n",
       "      <th>2</th>\n",
       "      <td>3</td>\n",
       "      <td>1</td>\n",
       "      <td>3</td>\n",
       "      <td>Heikkinen, Miss. Laina</td>\n",
       "      <td>female</td>\n",
       "      <td>26.0</td>\n",
       "      <td>0</td>\n",
       "      <td>0</td>\n",
       "      <td>STON/O2. 3101282</td>\n",
       "      <td>7.9250</td>\n",
       "      <td>NaN</td>\n",
       "      <td>S</td>\n",
       "    </tr>\n",
       "    <tr>\n",
       "      <th>3</th>\n",
       "      <td>4</td>\n",
       "      <td>1</td>\n",
       "      <td>1</td>\n",
       "      <td>Futrelle, Mrs. Jacques Heath (Lily May Peel)</td>\n",
       "      <td>female</td>\n",
       "      <td>35.0</td>\n",
       "      <td>1</td>\n",
       "      <td>0</td>\n",
       "      <td>113803</td>\n",
       "      <td>53.1000</td>\n",
       "      <td>C123</td>\n",
       "      <td>S</td>\n",
       "    </tr>\n",
       "    <tr>\n",
       "      <th>4</th>\n",
       "      <td>5</td>\n",
       "      <td>0</td>\n",
       "      <td>3</td>\n",
       "      <td>Allen, Mr. William Henry</td>\n",
       "      <td>male</td>\n",
       "      <td>35.0</td>\n",
       "      <td>0</td>\n",
       "      <td>0</td>\n",
       "      <td>373450</td>\n",
       "      <td>8.0500</td>\n",
       "      <td>NaN</td>\n",
       "      <td>S</td>\n",
       "    </tr>\n",
       "  </tbody>\n",
       "</table>\n",
       "</div>"
      ],
      "text/plain": [
       "   PassengerId  Survived  Pclass  \\\n",
       "0            1         0       3   \n",
       "1            2         1       1   \n",
       "2            3         1       3   \n",
       "3            4         1       1   \n",
       "4            5         0       3   \n",
       "\n",
       "                                                Name     Sex   Age  SibSp  \\\n",
       "0                            Braund, Mr. Owen Harris    male  22.0      1   \n",
       "1  Cumings, Mrs. John Bradley (Florence Briggs Th...  female  38.0      1   \n",
       "2                             Heikkinen, Miss. Laina  female  26.0      0   \n",
       "3       Futrelle, Mrs. Jacques Heath (Lily May Peel)  female  35.0      1   \n",
       "4                           Allen, Mr. William Henry    male  35.0      0   \n",
       "\n",
       "   Parch            Ticket     Fare Cabin Embarked  \n",
       "0      0         A/5 21171   7.2500   NaN        S  \n",
       "1      0          PC 17599  71.2833   C85        C  \n",
       "2      0  STON/O2. 3101282   7.9250   NaN        S  \n",
       "3      0            113803  53.1000  C123        S  \n",
       "4      0            373450   8.0500   NaN        S  "
      ]
     },
     "execution_count": 2,
     "metadata": {},
     "output_type": "execute_result"
    }
   ],
   "source": [
    "# Load the data from its source format into a pandas dataframe\n",
    "df = pd.read_csv('train.csv')\n",
    "df.head()"
   ]
  },
  {
   "cell_type": "code",
   "execution_count": 3,
   "id": "4d814388",
   "metadata": {},
   "outputs": [
    {
     "name": "stdout",
     "output_type": "stream",
     "text": [
      "<class 'pandas.core.frame.DataFrame'>\n",
      "RangeIndex: 891 entries, 0 to 890\n",
      "Data columns (total 12 columns):\n",
      " #   Column       Non-Null Count  Dtype  \n",
      "---  ------       --------------  -----  \n",
      " 0   PassengerId  891 non-null    int64  \n",
      " 1   Survived     891 non-null    int64  \n",
      " 2   Pclass       891 non-null    int64  \n",
      " 3   Name         891 non-null    object \n",
      " 4   Sex          891 non-null    object \n",
      " 5   Age          714 non-null    float64\n",
      " 6   SibSp        891 non-null    int64  \n",
      " 7   Parch        891 non-null    int64  \n",
      " 8   Ticket       891 non-null    object \n",
      " 9   Fare         891 non-null    float64\n",
      " 10  Cabin        204 non-null    object \n",
      " 11  Embarked     889 non-null    object \n",
      "dtypes: float64(2), int64(5), object(5)\n",
      "memory usage: 83.7+ KB\n"
     ]
    }
   ],
   "source": [
    "# Quick overview of data using pandas methods\n",
    "df.info()\n",
    "# 12 columns, 1 is ID which is just the index, survived is the target\n",
    "# 10 possible features "
   ]
  },
  {
   "cell_type": "code",
   "execution_count": 4,
   "id": "2350346d",
   "metadata": {},
   "outputs": [
    {
     "data": {
      "text/plain": [
       "[891, 2, 3, 891, 2, 88, 7, 7, 681, 248, 147, 3]"
      ]
     },
     "execution_count": 4,
     "metadata": {},
     "output_type": "execute_result"
    }
   ],
   "source": [
    "[len(df[x].value_counts()) for x in df.columns]\n",
    "# It'll be tough to use a column that is an object AND has a lot of different values as a feature"
   ]
  },
  {
   "cell_type": "markdown",
   "id": "c1bd3c1d",
   "metadata": {},
   "source": [
    "### Exploratory Data Analysis\n",
    "This area should contain your visualizations as you seek to understand the relationships that exists within the data before running your linear regression algorithm."
   ]
  },
  {
   "cell_type": "markdown",
   "id": "95c29883",
   "metadata": {},
   "source": [
    "Express your curiosities in markdown, followed by your code to create the visualization that explores that curiosity."
   ]
  },
  {
   "cell_type": "code",
   "execution_count": 5,
   "id": "7f39826f",
   "metadata": {},
   "outputs": [
    {
     "data": {
      "text/plain": [
       "0.3838383838383838"
      ]
     },
     "execution_count": 5,
     "metadata": {},
     "output_type": "execute_result"
    }
   ],
   "source": [
    "df.Survived.mean() # 1 means survived, 0 means dead, this means .38 people survived\n",
    "# 342/891"
   ]
  },
  {
   "cell_type": "code",
   "execution_count": 6,
   "id": "e0e7753b",
   "metadata": {},
   "outputs": [
    {
     "data": {
      "text/plain": [
       "342"
      ]
     },
     "execution_count": 6,
     "metadata": {},
     "output_type": "execute_result"
    }
   ],
   "source": [
    "df.Survived.sum()"
   ]
  },
  {
   "cell_type": "code",
   "execution_count": 7,
   "id": "9beee8ed",
   "metadata": {},
   "outputs": [
    {
     "data": {
      "text/plain": [
       "Sex\n",
       "female    0.742038\n",
       "male      0.188908\n",
       "Name: Survived, dtype: float64"
      ]
     },
     "execution_count": 7,
     "metadata": {},
     "output_type": "execute_result"
    }
   ],
   "source": [
    "df.groupby('Sex').Survived.mean()\n",
    "# Survival is heavily influenced by gender clearly, females are way more likely to survive\n",
    "# The test submission where it's assumed that all females live have a .76555 accuracy\n",
    "# This means that there is a slight difference between the train and test set in terms of survival rate"
   ]
  },
  {
   "cell_type": "code",
   "execution_count": 8,
   "id": "4d11f428",
   "metadata": {},
   "outputs": [
    {
     "data": {
      "text/plain": [
       "0.7867564534231201"
      ]
     },
     "execution_count": 8,
     "metadata": {},
     "output_type": "execute_result"
    }
   ],
   "source": [
    "Sexdf = pd.DataFrame(df.Sex)\n",
    "sexmap = {'female':1, 'male':0}\n",
    "Sexdf.Sex = Sexdf.Sex.map(sexmap)\n",
    "sum(df.Survived == Sexdf.Sex)/891 # For the train set, if I assume females live and males die, I have a .786 accuracy\n",
    "# serves a minimum accuracy to aim for in the train set, if I get lower, there's something off"
   ]
  },
  {
   "cell_type": "code",
   "execution_count": 9,
   "id": "27ceb875",
   "metadata": {},
   "outputs": [
    {
     "data": {
      "text/plain": [
       "Pclass\n",
       "1    0.629630\n",
       "2    0.472826\n",
       "3    0.242363\n",
       "Name: Survived, dtype: float64"
      ]
     },
     "execution_count": 9,
     "metadata": {},
     "output_type": "execute_result"
    }
   ],
   "source": [
    "df.groupby('Pclass').Survived.mean() \n",
    "# 'lower' number Pclass is more likely to survive\n",
    "# The difference between female and male is larger than the difference between pclass1 and pclass3"
   ]
  },
  {
   "cell_type": "code",
   "execution_count": 10,
   "id": "b51daa1a",
   "metadata": {},
   "outputs": [
    {
     "data": {
      "text/plain": [
       "Pclass  Sex   \n",
       "1       female    0.968085\n",
       "        male      0.368852\n",
       "2       female    0.921053\n",
       "        male      0.157407\n",
       "3       female    0.500000\n",
       "        male      0.135447\n",
       "Name: Survived, dtype: float64"
      ]
     },
     "execution_count": 10,
     "metadata": {},
     "output_type": "execute_result"
    }
   ],
   "source": [
    "df.groupby(['Pclass','Sex']).Survived.mean() \n",
    "# checking to see the whether the above survival rates are influenced by the other feature\n",
    "# clearly both features are influential\n",
    "# Females are a lot more likely to survive in pclass 1 or 2 rather than 3\n",
    "# Males are a lot more likely to survive in pclass 1, rather than 2 or 3"
   ]
  },
  {
   "cell_type": "code",
   "execution_count": 11,
   "id": "7f3314f0",
   "metadata": {},
   "outputs": [
    {
     "data": {
      "text/plain": [
       "Embarked\n",
       "C    0.553571\n",
       "Q    0.389610\n",
       "S    0.336957\n",
       "Name: Survived, dtype: float64"
      ]
     },
     "execution_count": 11,
     "metadata": {},
     "output_type": "execute_result"
    }
   ],
   "source": [
    "df.groupby('Embarked').Survived.mean()\n",
    "# The difference is less than sex and pclass"
   ]
  },
  {
   "cell_type": "code",
   "execution_count": 12,
   "id": "a40598bf",
   "metadata": {},
   "outputs": [
    {
     "data": {
      "text/plain": [
       "Sex     Pclass  Embarked\n",
       "female  1       C           0.976744\n",
       "                Q           1.000000\n",
       "                S           0.958333\n",
       "        2       C           1.000000\n",
       "                Q           1.000000\n",
       "                S           0.910448\n",
       "        3       C           0.652174\n",
       "                Q           0.727273\n",
       "                S           0.375000\n",
       "male    1       C           0.404762\n",
       "                Q           0.000000\n",
       "                S           0.354430\n",
       "        2       C           0.200000\n",
       "                Q           0.000000\n",
       "                S           0.154639\n",
       "        3       C           0.232558\n",
       "                Q           0.076923\n",
       "                S           0.128302\n",
       "Name: Survived, dtype: float64"
      ]
     },
     "execution_count": 12,
     "metadata": {},
     "output_type": "execute_result"
    }
   ],
   "source": [
    "df.groupby(['Sex','Pclass','Embarked']).Survived.mean() \n",
    "# Female3S has a lower survival rate than Male1C, that's the only subset where male has higher alive rate than female"
   ]
  },
  {
   "cell_type": "code",
   "execution_count": 13,
   "id": "d8b818ac",
   "metadata": {},
   "outputs": [
    {
     "data": {
      "text/plain": [
       "Sex     Pclass  Embarked\n",
       "female  1       C            43\n",
       "                Q             1\n",
       "                S            48\n",
       "        2       C             7\n",
       "                Q             2\n",
       "                S            67\n",
       "        3       C            23\n",
       "                Q            33\n",
       "                S            88\n",
       "male    1       C            42\n",
       "                Q             1\n",
       "                S            79\n",
       "        2       C            10\n",
       "                Q             1\n",
       "                S            97\n",
       "        3       C            43\n",
       "                Q            39\n",
       "                S           265\n",
       "dtype: int64"
      ]
     },
     "execution_count": 13,
     "metadata": {},
     "output_type": "execute_result"
    }
   ],
   "source": [
    "df.groupby(['Sex','Pclass','Embarked']).size() "
   ]
  },
  {
   "cell_type": "code",
   "execution_count": 14,
   "id": "67c2224e",
   "metadata": {},
   "outputs": [
    {
     "data": {
      "text/plain": [
       "FamilySize\n",
       "0     0.303538\n",
       "1     0.552795\n",
       "2     0.578431\n",
       "3     0.724138\n",
       "4     0.200000\n",
       "5     0.136364\n",
       "6     0.333333\n",
       "7     0.000000\n",
       "10    0.000000\n",
       "Name: Survived, dtype: float64"
      ]
     },
     "execution_count": 14,
     "metadata": {},
     "output_type": "execute_result"
    }
   ],
   "source": [
    "# SibSp = sibling + spouse, Parch = parents + children, I think it's better to combine these 2 values to get family size\n",
    "df['FamilySize'] = df.SibSp + df.Parch\n",
    "df.groupby('FamilySize').Survived.mean()"
   ]
  },
  {
   "cell_type": "code",
   "execution_count": 15,
   "id": "f560f5f2",
   "metadata": {},
   "outputs": [
    {
     "data": {
      "text/html": [
       "<div>\n",
       "<style scoped>\n",
       "    .dataframe tbody tr th:only-of-type {\n",
       "        vertical-align: middle;\n",
       "    }\n",
       "\n",
       "    .dataframe tbody tr th {\n",
       "        vertical-align: top;\n",
       "    }\n",
       "\n",
       "    .dataframe thead th {\n",
       "        text-align: right;\n",
       "    }\n",
       "</style>\n",
       "<table border=\"1\" class=\"dataframe\">\n",
       "  <thead>\n",
       "    <tr style=\"text-align: right;\">\n",
       "      <th></th>\n",
       "      <th>PassengerId</th>\n",
       "      <th>Survived</th>\n",
       "      <th>Pclass</th>\n",
       "      <th>Name</th>\n",
       "      <th>Sex</th>\n",
       "      <th>Age</th>\n",
       "      <th>SibSp</th>\n",
       "      <th>Parch</th>\n",
       "      <th>Ticket</th>\n",
       "      <th>Fare</th>\n",
       "      <th>Cabin</th>\n",
       "      <th>Embarked</th>\n",
       "      <th>FamilySize</th>\n",
       "      <th>Score</th>\n",
       "      <th>Alive</th>\n",
       "    </tr>\n",
       "  </thead>\n",
       "  <tbody>\n",
       "    <tr>\n",
       "      <th>0</th>\n",
       "      <td>298</td>\n",
       "      <td>0</td>\n",
       "      <td>3.872666e-01</td>\n",
       "      <td>Allison, Miss. Helen Loraine</td>\n",
       "      <td>5.531302e-01</td>\n",
       "      <td>2.0</td>\n",
       "      <td>1</td>\n",
       "      <td>2</td>\n",
       "      <td>113781</td>\n",
       "      <td>151.5500</td>\n",
       "      <td>C22 C26</td>\n",
       "      <td>S</td>\n",
       "      <td>0.420600</td>\n",
       "      <td>1.360997</td>\n",
       "      <td>1</td>\n",
       "    </tr>\n",
       "    <tr>\n",
       "      <th>1</th>\n",
       "      <td>436</td>\n",
       "      <td>1</td>\n",
       "      <td>3.872666e-01</td>\n",
       "      <td>Carter, Miss. Lucile Polk</td>\n",
       "      <td>5.531302e-01</td>\n",
       "      <td>14.0</td>\n",
       "      <td>1</td>\n",
       "      <td>2</td>\n",
       "      <td>113760</td>\n",
       "      <td>120.0000</td>\n",
       "      <td>B96 B98</td>\n",
       "      <td>S</td>\n",
       "      <td>0.420600</td>\n",
       "      <td>1.360997</td>\n",
       "      <td>1</td>\n",
       "    </tr>\n",
       "    <tr>\n",
       "      <th>2</th>\n",
       "      <td>499</td>\n",
       "      <td>0</td>\n",
       "      <td>3.872666e-01</td>\n",
       "      <td>Allison, Mrs. Hudson J C (Bessie Waldo Daniels)</td>\n",
       "      <td>5.531302e-01</td>\n",
       "      <td>25.0</td>\n",
       "      <td>1</td>\n",
       "      <td>2</td>\n",
       "      <td>113781</td>\n",
       "      <td>151.5500</td>\n",
       "      <td>C22 C26</td>\n",
       "      <td>S</td>\n",
       "      <td>0.420600</td>\n",
       "      <td>1.360997</td>\n",
       "      <td>1</td>\n",
       "    </tr>\n",
       "    <tr>\n",
       "      <th>3</th>\n",
       "      <td>764</td>\n",
       "      <td>1</td>\n",
       "      <td>3.872666e-01</td>\n",
       "      <td>Carter, Mrs. William Ernest (Lucile Polk)</td>\n",
       "      <td>5.531302e-01</td>\n",
       "      <td>36.0</td>\n",
       "      <td>1</td>\n",
       "      <td>2</td>\n",
       "      <td>113760</td>\n",
       "      <td>120.0000</td>\n",
       "      <td>B96 B98</td>\n",
       "      <td>S</td>\n",
       "      <td>0.420600</td>\n",
       "      <td>1.360997</td>\n",
       "      <td>1</td>\n",
       "    </tr>\n",
       "    <tr>\n",
       "      <th>4</th>\n",
       "      <td>137</td>\n",
       "      <td>1</td>\n",
       "      <td>3.872666e-01</td>\n",
       "      <td>Newsom, Miss. Helen Monypeny</td>\n",
       "      <td>5.531302e-01</td>\n",
       "      <td>19.0</td>\n",
       "      <td>0</td>\n",
       "      <td>2</td>\n",
       "      <td>11752</td>\n",
       "      <td>26.2833</td>\n",
       "      <td>D47</td>\n",
       "      <td>S</td>\n",
       "      <td>0.274893</td>\n",
       "      <td>1.215290</td>\n",
       "      <td>1</td>\n",
       "    </tr>\n",
       "    <tr>\n",
       "      <th>...</th>\n",
       "      <td>...</td>\n",
       "      <td>...</td>\n",
       "      <td>...</td>\n",
       "      <td>...</td>\n",
       "      <td>...</td>\n",
       "      <td>...</td>\n",
       "      <td>...</td>\n",
       "      <td>...</td>\n",
       "      <td>...</td>\n",
       "      <td>...</td>\n",
       "      <td>...</td>\n",
       "      <td>...</td>\n",
       "      <td>...</td>\n",
       "      <td>...</td>\n",
       "      <td>...</td>\n",
       "    </tr>\n",
       "    <tr>\n",
       "      <th>886</th>\n",
       "      <td>325</td>\n",
       "      <td>0</td>\n",
       "      <td>-4.745418e-07</td>\n",
       "      <td>Sage, Mr. George John Jr</td>\n",
       "      <td>1.455806e-07</td>\n",
       "      <td>NaN</td>\n",
       "      <td>8</td>\n",
       "      <td>2</td>\n",
       "      <td>CA. 2343</td>\n",
       "      <td>69.5500</td>\n",
       "      <td>NaN</td>\n",
       "      <td>S</td>\n",
       "      <td>-0.303538</td>\n",
       "      <td>-0.303538</td>\n",
       "      <td>0</td>\n",
       "    </tr>\n",
       "    <tr>\n",
       "      <th>887</th>\n",
       "      <td>387</td>\n",
       "      <td>0</td>\n",
       "      <td>-4.745418e-07</td>\n",
       "      <td>Goodwin, Master. Sidney Leonard</td>\n",
       "      <td>1.455806e-07</td>\n",
       "      <td>1.0</td>\n",
       "      <td>5</td>\n",
       "      <td>2</td>\n",
       "      <td>CA 2144</td>\n",
       "      <td>46.9000</td>\n",
       "      <td>NaN</td>\n",
       "      <td>S</td>\n",
       "      <td>-0.303538</td>\n",
       "      <td>-0.303538</td>\n",
       "      <td>0</td>\n",
       "    </tr>\n",
       "    <tr>\n",
       "      <th>888</th>\n",
       "      <td>481</td>\n",
       "      <td>0</td>\n",
       "      <td>-4.745418e-07</td>\n",
       "      <td>Goodwin, Master. Harold Victor</td>\n",
       "      <td>1.455806e-07</td>\n",
       "      <td>9.0</td>\n",
       "      <td>5</td>\n",
       "      <td>2</td>\n",
       "      <td>CA 2144</td>\n",
       "      <td>46.9000</td>\n",
       "      <td>NaN</td>\n",
       "      <td>S</td>\n",
       "      <td>-0.303538</td>\n",
       "      <td>-0.303538</td>\n",
       "      <td>0</td>\n",
       "    </tr>\n",
       "    <tr>\n",
       "      <th>889</th>\n",
       "      <td>684</td>\n",
       "      <td>0</td>\n",
       "      <td>-4.745418e-07</td>\n",
       "      <td>Goodwin, Mr. Charles Edward</td>\n",
       "      <td>1.455806e-07</td>\n",
       "      <td>14.0</td>\n",
       "      <td>5</td>\n",
       "      <td>2</td>\n",
       "      <td>CA 2144</td>\n",
       "      <td>46.9000</td>\n",
       "      <td>NaN</td>\n",
       "      <td>S</td>\n",
       "      <td>-0.303538</td>\n",
       "      <td>-0.303538</td>\n",
       "      <td>0</td>\n",
       "    </tr>\n",
       "    <tr>\n",
       "      <th>890</th>\n",
       "      <td>847</td>\n",
       "      <td>0</td>\n",
       "      <td>-4.745418e-07</td>\n",
       "      <td>Sage, Mr. Douglas Bullen</td>\n",
       "      <td>1.455806e-07</td>\n",
       "      <td>NaN</td>\n",
       "      <td>8</td>\n",
       "      <td>2</td>\n",
       "      <td>CA. 2343</td>\n",
       "      <td>69.5500</td>\n",
       "      <td>NaN</td>\n",
       "      <td>S</td>\n",
       "      <td>-0.303538</td>\n",
       "      <td>-0.303538</td>\n",
       "      <td>0</td>\n",
       "    </tr>\n",
       "  </tbody>\n",
       "</table>\n",
       "<p>891 rows × 15 columns</p>\n",
       "</div>"
      ],
      "text/plain": [
       "     PassengerId  Survived        Pclass  \\\n",
       "0            298         0  3.872666e-01   \n",
       "1            436         1  3.872666e-01   \n",
       "2            499         0  3.872666e-01   \n",
       "3            764         1  3.872666e-01   \n",
       "4            137         1  3.872666e-01   \n",
       "..           ...       ...           ...   \n",
       "886          325         0 -4.745418e-07   \n",
       "887          387         0 -4.745418e-07   \n",
       "888          481         0 -4.745418e-07   \n",
       "889          684         0 -4.745418e-07   \n",
       "890          847         0 -4.745418e-07   \n",
       "\n",
       "                                                Name           Sex   Age  \\\n",
       "0                       Allison, Miss. Helen Loraine  5.531302e-01   2.0   \n",
       "1                          Carter, Miss. Lucile Polk  5.531302e-01  14.0   \n",
       "2    Allison, Mrs. Hudson J C (Bessie Waldo Daniels)  5.531302e-01  25.0   \n",
       "3          Carter, Mrs. William Ernest (Lucile Polk)  5.531302e-01  36.0   \n",
       "4                       Newsom, Miss. Helen Monypeny  5.531302e-01  19.0   \n",
       "..                                               ...           ...   ...   \n",
       "886                         Sage, Mr. George John Jr  1.455806e-07   NaN   \n",
       "887                  Goodwin, Master. Sidney Leonard  1.455806e-07   1.0   \n",
       "888                   Goodwin, Master. Harold Victor  1.455806e-07   9.0   \n",
       "889                      Goodwin, Mr. Charles Edward  1.455806e-07  14.0   \n",
       "890                         Sage, Mr. Douglas Bullen  1.455806e-07   NaN   \n",
       "\n",
       "     SibSp  Parch    Ticket      Fare    Cabin Embarked  FamilySize     Score  \\\n",
       "0        1      2    113781  151.5500  C22 C26        S    0.420600  1.360997   \n",
       "1        1      2    113760  120.0000  B96 B98        S    0.420600  1.360997   \n",
       "2        1      2    113781  151.5500  C22 C26        S    0.420600  1.360997   \n",
       "3        1      2    113760  120.0000  B96 B98        S    0.420600  1.360997   \n",
       "4        0      2     11752   26.2833      D47        S    0.274893  1.215290   \n",
       "..     ...    ...       ...       ...      ...      ...         ...       ...   \n",
       "886      8      2  CA. 2343   69.5500      NaN        S   -0.303538 -0.303538   \n",
       "887      5      2   CA 2144   46.9000      NaN        S   -0.303538 -0.303538   \n",
       "888      5      2   CA 2144   46.9000      NaN        S   -0.303538 -0.303538   \n",
       "889      5      2   CA 2144   46.9000      NaN        S   -0.303538 -0.303538   \n",
       "890      8      2  CA. 2343   69.5500      NaN        S   -0.303538 -0.303538   \n",
       "\n",
       "     Alive  \n",
       "0        1  \n",
       "1        1  \n",
       "2        1  \n",
       "3        1  \n",
       "4        1  \n",
       "..     ...  \n",
       "886      0  \n",
       "887      0  \n",
       "888      0  \n",
       "889      0  \n",
       "890      0  \n",
       "\n",
       "[891 rows x 15 columns]"
      ]
     },
     "execution_count": 15,
     "metadata": {},
     "output_type": "execute_result"
    }
   ],
   "source": [
    "testdf = df.copy()\n",
    "testdf.FamilySize = testdf['FamilySize'].map(df.groupby('FamilySize').Survived.mean())\n",
    "testdf.FamilySize = testdf['FamilySize'].apply(lambda x: x - 0.303538) # 0 \n",
    "\n",
    "testdf.Pclass = testdf['Pclass'].map(df.groupby('Pclass').Survived.mean())\n",
    "testdf.Pclass = testdf['Pclass'].apply(lambda x: x - 0.242363) # 3\n",
    "\n",
    "testdf.Sex = testdf['Sex'].map(df.groupby('Sex').Survived.mean())\n",
    "testdf.Sex = testdf['Sex'].apply(lambda x: x - 0.188908) # male\n",
    "\n",
    "\n",
    "testdf['Score'] = testdf.FamilySize + testdf.Pclass + testdf.Sex\n",
    "testdf = testdf.sort_values(by=['Score','Sex'],ascending=[False,False])\n",
    "testdf = testdf.reset_index(drop=True)\n",
    "\n",
    "condition = [df.index<342,df.index>=342]\n",
    "value = [1,0]\n",
    "testdf['Alive'] = np.select(condition,value)\n",
    "testdf"
   ]
  },
  {
   "cell_type": "code",
   "execution_count": 16,
   "id": "8ab2420d",
   "metadata": {},
   "outputs": [
    {
     "data": {
      "text/plain": [
       "0.8002244668911336"
      ]
     },
     "execution_count": 16,
     "metadata": {},
     "output_type": "execute_result"
    }
   ],
   "source": [
    "sum(testdf.Survived == testdf.Alive)/891 # .800 better than .786, good news\n",
    "# .800 = familysize + pclass + sex (no altering)"
   ]
  },
  {
   "cell_type": "code",
   "execution_count": 17,
   "id": "2fe26999",
   "metadata": {},
   "outputs": [
    {
     "data": {
      "text/plain": [
       "0.7890011223344556"
      ]
     },
     "execution_count": 17,
     "metadata": {},
     "output_type": "execute_result"
    }
   ],
   "source": [
    "testdf = df.copy()\n",
    "testdf.FamilySize = testdf['FamilySize'].map(df.groupby('FamilySize').Survived.mean())\n",
    "testdf.Embarked = testdf['Embarked'].map(df.groupby('Embarked').Survived.mean())\n",
    "testdf.Embarked = testdf['Embarked'].apply(lambda x: x - 0.336957)\n",
    "\n",
    "testdf.Pclass = testdf['Pclass'].map(df.groupby('Pclass').Survived.mean())\n",
    "testdf.Sex = testdf['Sex'].map(df.groupby('Sex').Survived.mean())\n",
    "testdf['Score'] = testdf.FamilySize + testdf.Embarked + testdf.Pclass + testdf.Sex\n",
    "testdf = testdf.sort_values(by=['Score','Sex'],ascending=[False,False])\n",
    "testdf = testdf.reset_index(drop=True)\n",
    "\n",
    "condition = [df.index<342,df.index>=342]\n",
    "value = [1,0]\n",
    "testdf['Alive'] = np.select(condition,value)\n",
    "sum(testdf.Survived == testdf.Alive)/891\n",
    "# Embarked lowers this score so I won't use it in my final model"
   ]
  },
  {
   "cell_type": "code",
   "execution_count": 18,
   "id": "0341ce06",
   "metadata": {},
   "outputs": [
    {
     "data": {
      "text/plain": [
       "count    891.000000\n",
       "mean      32.204208\n",
       "std       49.693429\n",
       "min        0.000000\n",
       "25%        7.910400\n",
       "50%       14.454200\n",
       "75%       31.000000\n",
       "max      512.329200\n",
       "Name: Fare, dtype: float64"
      ]
     },
     "execution_count": 18,
     "metadata": {},
     "output_type": "execute_result"
    }
   ],
   "source": [
    "df.Fare.describe()"
   ]
  },
  {
   "cell_type": "code",
   "execution_count": 19,
   "id": "af2f9398",
   "metadata": {},
   "outputs": [
    {
     "data": {
      "text/plain": [
       "Text(0.5, 1.0, 'Fare Distribution')"
      ]
     },
     "execution_count": 19,
     "metadata": {},
     "output_type": "execute_result"
    },
    {
     "data": {
      "image/png": "[encoded data removed]",
      "text/plain": [
       "<Figure size 432x288 with 1 Axes>"
      ]
     },
     "metadata": {
      "needs_background": "light"
     },
     "output_type": "display_data"
    }
   ],
   "source": [
    "plt.hist(df.Fare) # very skewed to the left\n",
    "plt.title('Fare Distribution')"
   ]
  },
  {
   "cell_type": "code",
   "execution_count": 20,
   "id": "48fc4b43",
   "metadata": {},
   "outputs": [
    {
     "data": {
      "text/plain": [
       "<matplotlib.lines.Line2D at 0x1afa14db370>"
      ]
     },
     "execution_count": 20,
     "metadata": {},
     "output_type": "execute_result"
    },
    {
     "data": {
      "image/png": "[encoded data removed]",
      "text/plain": [
       "<Figure size 432x288 with 1 Axes>"
      ]
     },
     "metadata": {
      "needs_background": "light"
     },
     "output_type": "display_data"
    }
   ],
   "source": [
    "x = ['0-25%','25-50%','50-75%','75-100%']\n",
    "y = [df[(df.Fare>=0) & (df.Fare<7.910400)].Survived.mean(),df[(df.Fare>=7.910400) & (df.Fare<14.454200)].Survived.mean(),\n",
    "    df[(df.Fare>=14.454200) & (df.Fare<31.000000)].Survived.mean(),df[(df.Fare>=31.000000) & (df.Fare<99999999)].Survived.mean()]\n",
    "plt.bar(x,y)\n",
    "plt.title('Survival Rate based on Fare Quartiles')\n",
    "plt.xlabel('Fare Quartiles')\n",
    "plt.ylabel('Survival Rate')\n",
    "for index, value in enumerate(y):\n",
    "    plt.text(index, value,\n",
    "             str(round(value,7)),ha='center')\n",
    "plt.axhline(342/891,color='r') # survival rate to compare"
   ]
  },
  {
   "cell_type": "code",
   "execution_count": 21,
   "id": "4ba5d282",
   "metadata": {},
   "outputs": [
    {
     "data": {
      "text/plain": [
       "0.7485970819304153"
      ]
     },
     "execution_count": 21,
     "metadata": {},
     "output_type": "execute_result"
    }
   ],
   "source": [
    "testdf = df.copy()\n",
    "testdf.FamilySize = testdf['FamilySize'].map(df.groupby('FamilySize').Survived.mean())\n",
    "testdf.Pclass = testdf['Pclass'].map(df.groupby('Pclass').Survived.mean())\n",
    "testdf.Sex = testdf['Sex'].map(df.groupby('Sex').Survived.mean())\n",
    "\n",
    "condition = [(df.Fare>=0) & (df.Fare<7.910400),(df.Fare>=7.910400) & (df.Fare<14.454200),\n",
    "(df.Fare>=14.454200) & (df.Fare<31.000000),(df.Fare>=31.000000) & (df.Fare<99999999)]\n",
    "value = [df[(df.Fare>=0) & (df.Fare<7.910400)].Survived.mean(),df[(df.Fare>=7.910400) & (df.Fare<14.454200)].Survived.mean(),\n",
    "    df[(df.Fare>=14.454200) & (df.Fare<31.000000)].Survived.mean(),df[(df.Fare>=31.000000) & (df.Fare<99999999)].Survived.mean()]\n",
    "testdf.Fare = np.select(condition,value)\n",
    "\n",
    "testdf['Score'] = testdf.FamilySize + testdf.Pclass + testdf.Sex + testdf.Fare\n",
    "testdf = testdf.sort_values(by=['Score','Sex'],ascending=[False,False])\n",
    "testdf = testdf.reset_index(drop=True)\n",
    "\n",
    "condition = [df.index<342,df.index>=342]\n",
    "value = [1,0]\n",
    "testdf['Alive'] = np.select(condition,value)\n",
    "sum(testdf.Survived == testdf.Alive)/891\n",
    "# Lowers the score of my model so I don't include it in final model"
   ]
  },
  {
   "cell_type": "code",
   "execution_count": 22,
   "id": "d8b4a953",
   "metadata": {},
   "outputs": [
    {
     "data": {
      "text/plain": [
       " Mr              517\n",
       " Miss            182\n",
       " Mrs             125\n",
       " Master           40\n",
       " Dr                7\n",
       " Rev               6\n",
       " Mlle              2\n",
       " Major             2\n",
       " Col               2\n",
       " the Countess      1\n",
       " Capt              1\n",
       " Ms                1\n",
       " Sir               1\n",
       " Lady              1\n",
       " Mme               1\n",
       " Don               1\n",
       " Jonkheer          1\n",
       "dtype: int64"
      ]
     },
     "execution_count": 22,
     "metadata": {},
     "output_type": "execute_result"
    }
   ],
   "source": [
    "# Getting title from name, the word between the first comma and first period\n",
    "names = df['Name']\n",
    "titles = []\n",
    "\n",
    "for name in names:\n",
    "    splitted = name.split(',')[1]\n",
    "    splitted = splitted.split('.')[0]\n",
    "    titles.append(splitted)\n",
    "    \n",
    "titlesrs = pd.Series(titles)\n",
    "titlesrs.value_counts()"
   ]
  },
  {
   "cell_type": "code",
   "execution_count": 23,
   "id": "baf4cd81",
   "metadata": {},
   "outputs": [],
   "source": [
    "df['Title'] = titlesrs"
   ]
  },
  {
   "cell_type": "code",
   "execution_count": 24,
   "id": "53ae76b5",
   "metadata": {},
   "outputs": [
    {
     "data": {
      "text/plain": [
       "Title\n",
       " Capt            0.000000\n",
       " Col             0.500000\n",
       " Don             0.000000\n",
       " Dr              0.428571\n",
       " Jonkheer        0.000000\n",
       " Lady            1.000000\n",
       " Major           0.500000\n",
       " Master          0.575000\n",
       " Miss            0.697802\n",
       " Mlle            1.000000\n",
       " Mme             1.000000\n",
       " Mr              0.156673\n",
       " Mrs             0.792000\n",
       " Ms              1.000000\n",
       " Rev             0.000000\n",
       " Sir             1.000000\n",
       " the Countess    1.000000\n",
       "Name: Survived, dtype: float64"
      ]
     },
     "execution_count": 24,
     "metadata": {},
     "output_type": "execute_result"
    }
   ],
   "source": [
    "df.groupby('Title').Survived.mean()"
   ]
  },
  {
   "cell_type": "code",
   "execution_count": 25,
   "id": "5c76c8c5",
   "metadata": {},
   "outputs": [
    {
     "data": {
      "text/plain": [
       "0.8114478114478114"
      ]
     },
     "execution_count": 25,
     "metadata": {},
     "output_type": "execute_result"
    }
   ],
   "source": [
    "testdf = df.copy()\n",
    "testdf.FamilySize = testdf['FamilySize'].map(df.groupby('FamilySize').Survived.mean())\n",
    "testdf.FamilySize = testdf['FamilySize'].apply(lambda x: x - 0.303538) # 0 \n",
    "\n",
    "testdf.Pclass = testdf['Pclass'].map(df.groupby('Pclass').Survived.mean())\n",
    "testdf.Pclass = testdf['Pclass'].apply(lambda x: x - 0.242363) # 3\n",
    "\n",
    "testdf.Sex = testdf['Sex'].map(df.groupby('Sex').Survived.mean())\n",
    "testdf.Sex = testdf['Sex'].apply(lambda x: x - 0.188908) # male\n",
    "\n",
    "testdf.Title = testdf['Title'].map(df.groupby('Title').Survived.mean())\n",
    "testdf.Title = testdf['Title'].apply(lambda x: x - 0.156673) # Mr\n",
    "\n",
    "testdf['Score'] = testdf.FamilySize + testdf.Pclass + testdf.Sex + testdf.Title\n",
    "testdf = testdf.sort_values(by=['Score','Sex'],ascending=[False,False])\n",
    "testdf = testdf.reset_index(drop=True)\n",
    "\n",
    "condition = [df.index<342,df.index>=342]\n",
    "value = [1,0]\n",
    "testdf['Alive'] = np.select(condition,value)\n",
    "sum(testdf.Survived == testdf.Alive)/891 \n",
    "# Increases the score so I will include 'title' as a feature in my final model\n",
    "# Also the subtraction statements don't change the score so I won't use them in the final model."
   ]
  },
  {
   "cell_type": "code",
   "execution_count": 26,
   "id": "3c7e0e99",
   "metadata": {},
   "outputs": [],
   "source": [
    "alivebyage = [df[(df.Age>=x) & (df.Age<x+10)].Survived.mean() for x in range(0,91,10)]"
   ]
  },
  {
   "cell_type": "code",
   "execution_count": 27,
   "id": "f1b859c6",
   "metadata": {},
   "outputs": [
    {
     "data": {
      "text/plain": [
       "0.14285714285714285"
      ]
     },
     "execution_count": 27,
     "metadata": {},
     "output_type": "execute_result"
    }
   ],
   "source": [
    "df[(df.Age>=70) & (df.Age<1000)].Survived.mean()"
   ]
  },
  {
   "cell_type": "code",
   "execution_count": 28,
   "id": "88e6f52c",
   "metadata": {},
   "outputs": [
    {
     "data": {
      "text/plain": [
       "Text(0, 0.5, 'Frequency')"
      ]
     },
     "execution_count": 28,
     "metadata": {},
     "output_type": "execute_result"
    },
    {
     "data": {
      "image/png": "[encoded data removed]",
      "text/plain": [
       "<Figure size 432x288 with 1 Axes>"
      ]
     },
     "metadata": {
      "needs_background": "light"
     },
     "output_type": "display_data"
    }
   ],
   "source": [
    "# age distribution\n",
    "plt.hist(df.Age,bins=range(0,91,10))\n",
    "plt.title('Age Distribution')\n",
    "plt.xlabel('Age')\n",
    "plt.ylabel('Frequency')"
   ]
  },
  {
   "cell_type": "code",
   "execution_count": 29,
   "id": "ea89e076",
   "metadata": {},
   "outputs": [
    {
     "data": {
      "text/plain": [
       "<matplotlib.lines.Line2D at 0x1afa1521490>"
      ]
     },
     "execution_count": 29,
     "metadata": {},
     "output_type": "execute_result"
    },
    {
     "data": {
      "image/png": "[encoded data removed]",
      "text/plain": [
       "<Figure size 432x288 with 1 Axes>"
      ]
     },
     "metadata": {
      "needs_background": "light"
     },
     "output_type": "display_data"
    }
   ],
   "source": [
    "x = ['0-9','10-19','20-29','30-39','40-49','50-59','60-69','70+']\n",
    "y = [alivebyage[0],alivebyage[1],alivebyage[2],alivebyage[3],alivebyage[4],alivebyage[5],alivebyage[6],0.14285714285714285]\n",
    "plt.bar(x,y)\n",
    "plt.title('Survival Rate by Age Group')\n",
    "plt.xlabel('Age Group')\n",
    "plt.ylabel('Survival Rate')\n",
    "for index, value in enumerate(y):\n",
    "    plt.text(index, value,\n",
    "             str(round(value,3)),ha='center')\n",
    "plt.axhline(342/891,color='r') # survival rate to compare\n"
   ]
  },
  {
   "cell_type": "code",
   "execution_count": 30,
   "id": "f6b5cca7",
   "metadata": {},
   "outputs": [
    {
     "data": {
      "text/plain": [
       "0.8159371492704826"
      ]
     },
     "execution_count": 30,
     "metadata": {},
     "output_type": "execute_result"
    }
   ],
   "source": [
    "testdf = df.copy()\n",
    "testdf.FamilySize = testdf['FamilySize'].map(df.groupby('FamilySize').Survived.mean())\n",
    "testdf.FamilySize = testdf['FamilySize'].apply(lambda x: x - 0.303538) # 0 \n",
    "\n",
    "testdf.Pclass = testdf['Pclass'].map(df.groupby('Pclass').Survived.mean())\n",
    "testdf.Pclass = testdf['Pclass'].apply(lambda x: x - 0.242363) # 3\n",
    "\n",
    "testdf.Sex = testdf['Sex'].map(df.groupby('Sex').Survived.mean())\n",
    "testdf.Sex = testdf['Sex'].apply(lambda x: x - 0.188908) # male\n",
    "\n",
    "condition = [(df.Age>=0) & (df.Age<10),(df.Age>=10) & (df.Age<20),(df.Age>=20) & (df.Age<30),(df.Age>=30) & (df.Age<40),(df.Age>=40) & (df.Age<50),\n",
    "            (df.Age>=50) & (df.Age<60),(df.Age>=60) & (df.Age<70),(df.Age>=70) & (df.Age<1000)]\n",
    "value = [alivebyage[0],alivebyage[1],alivebyage[2],alivebyage[3],alivebyage[4],alivebyage[5],alivebyage[6],0.14285714285714285]\n",
    "testdf.Age = np.select(condition,value)\n",
    "testdf.Age = testdf['Age'].apply(lambda x: x - 0.14285714285714285)\n",
    "\n",
    "testdf.Title = testdf['Title'].map(df.groupby('Title').Survived.mean())\n",
    "testdf.Title = testdf['Title'].apply(lambda x: x - 0.156673) # Mr\n",
    "\n",
    "testdf['Score'] = testdf.FamilySize + testdf.Pclass + testdf.Sex + testdf.Age + testdf.Title\n",
    "testdf = testdf.sort_values(by=['Score','Sex'],ascending=[False,False])\n",
    "testdf = testdf.reset_index(drop=True)\n",
    "\n",
    "condition = [df.index<342,df.index>=342]\n",
    "value = [1,0]\n",
    "testdf['Alive'] = np.select(condition,value)\n",
    "sum(testdf.Survived == testdf.Alive)/891\n",
    "# 'Age' increases my score so I keep it for the final model"
   ]
  },
  {
   "cell_type": "code",
   "execution_count": 31,
   "id": "b1e0a8b8",
   "metadata": {},
   "outputs": [
    {
     "name": "stdout",
     "output_type": "stream",
     "text": [
      "0.3842662632375189\n",
      "0.3826086956521739\n"
     ]
    }
   ],
   "source": [
    "ticketnumdf = df[df['Ticket'].str.isnumeric()==True]\n",
    "ticketletdf = df[df['Ticket'].str.isnumeric()==False]\n",
    "print(ticketnumdf.Survived.mean())\n",
    "print(ticketletdf.Survived.mean())\n",
    "# Insignificant difference so I won't include ticket as a feature in my final model"
   ]
  },
  {
   "cell_type": "markdown",
   "id": "8b9dbd9d",
   "metadata": {},
   "source": [
    "**EVERY VISUALIZATION REQUIRES AN ASSOCIATED DECSRIPTION** *(in addition to titles, axis labels, specified units of measurements, and legend if necessary.)*"
   ]
  },
  {
   "cell_type": "markdown",
   "id": "e9c232f0",
   "metadata": {},
   "source": [
    "### Model Evaluation\n",
    "Using the metrics gathered when training and testing your model, visualize the performance of your model."
   ]
  },
  {
   "cell_type": "code",
   "execution_count": 32,
   "id": "4d2cd4aa",
   "metadata": {},
   "outputs": [
    {
     "data": {
      "text/html": [
       "<div>\n",
       "<style scoped>\n",
       "    .dataframe tbody tr th:only-of-type {\n",
       "        vertical-align: middle;\n",
       "    }\n",
       "\n",
       "    .dataframe tbody tr th {\n",
       "        vertical-align: top;\n",
       "    }\n",
       "\n",
       "    .dataframe thead th {\n",
       "        text-align: right;\n",
       "    }\n",
       "</style>\n",
       "<table border=\"1\" class=\"dataframe\">\n",
       "  <thead>\n",
       "    <tr style=\"text-align: right;\">\n",
       "      <th></th>\n",
       "      <th>PassengerId</th>\n",
       "      <th>Pclass</th>\n",
       "      <th>Name</th>\n",
       "      <th>Sex</th>\n",
       "      <th>Age</th>\n",
       "      <th>SibSp</th>\n",
       "      <th>Parch</th>\n",
       "      <th>Ticket</th>\n",
       "      <th>Fare</th>\n",
       "      <th>Cabin</th>\n",
       "      <th>Embarked</th>\n",
       "    </tr>\n",
       "  </thead>\n",
       "  <tbody>\n",
       "    <tr>\n",
       "      <th>0</th>\n",
       "      <td>892</td>\n",
       "      <td>3</td>\n",
       "      <td>Kelly, Mr. James</td>\n",
       "      <td>male</td>\n",
       "      <td>34.5</td>\n",
       "      <td>0</td>\n",
       "      <td>0</td>\n",
       "      <td>330911</td>\n",
       "      <td>7.8292</td>\n",
       "      <td>NaN</td>\n",
       "      <td>Q</td>\n",
       "    </tr>\n",
       "    <tr>\n",
       "      <th>1</th>\n",
       "      <td>893</td>\n",
       "      <td>3</td>\n",
       "      <td>Wilkes, Mrs. James (Ellen Needs)</td>\n",
       "      <td>female</td>\n",
       "      <td>47.0</td>\n",
       "      <td>1</td>\n",
       "      <td>0</td>\n",
       "      <td>363272</td>\n",
       "      <td>7.0000</td>\n",
       "      <td>NaN</td>\n",
       "      <td>S</td>\n",
       "    </tr>\n",
       "    <tr>\n",
       "      <th>2</th>\n",
       "      <td>894</td>\n",
       "      <td>2</td>\n",
       "      <td>Myles, Mr. Thomas Francis</td>\n",
       "      <td>male</td>\n",
       "      <td>62.0</td>\n",
       "      <td>0</td>\n",
       "      <td>0</td>\n",
       "      <td>240276</td>\n",
       "      <td>9.6875</td>\n",
       "      <td>NaN</td>\n",
       "      <td>Q</td>\n",
       "    </tr>\n",
       "    <tr>\n",
       "      <th>3</th>\n",
       "      <td>895</td>\n",
       "      <td>3</td>\n",
       "      <td>Wirz, Mr. Albert</td>\n",
       "      <td>male</td>\n",
       "      <td>27.0</td>\n",
       "      <td>0</td>\n",
       "      <td>0</td>\n",
       "      <td>315154</td>\n",
       "      <td>8.6625</td>\n",
       "      <td>NaN</td>\n",
       "      <td>S</td>\n",
       "    </tr>\n",
       "    <tr>\n",
       "      <th>4</th>\n",
       "      <td>896</td>\n",
       "      <td>3</td>\n",
       "      <td>Hirvonen, Mrs. Alexander (Helga E Lindqvist)</td>\n",
       "      <td>female</td>\n",
       "      <td>22.0</td>\n",
       "      <td>1</td>\n",
       "      <td>1</td>\n",
       "      <td>3101298</td>\n",
       "      <td>12.2875</td>\n",
       "      <td>NaN</td>\n",
       "      <td>S</td>\n",
       "    </tr>\n",
       "    <tr>\n",
       "      <th>...</th>\n",
       "      <td>...</td>\n",
       "      <td>...</td>\n",
       "      <td>...</td>\n",
       "      <td>...</td>\n",
       "      <td>...</td>\n",
       "      <td>...</td>\n",
       "      <td>...</td>\n",
       "      <td>...</td>\n",
       "      <td>...</td>\n",
       "      <td>...</td>\n",
       "      <td>...</td>\n",
       "    </tr>\n",
       "    <tr>\n",
       "      <th>413</th>\n",
       "      <td>1305</td>\n",
       "      <td>3</td>\n",
       "      <td>Spector, Mr. Woolf</td>\n",
       "      <td>male</td>\n",
       "      <td>NaN</td>\n",
       "      <td>0</td>\n",
       "      <td>0</td>\n",
       "      <td>A.5. 3236</td>\n",
       "      <td>8.0500</td>\n",
       "      <td>NaN</td>\n",
       "      <td>S</td>\n",
       "    </tr>\n",
       "    <tr>\n",
       "      <th>414</th>\n",
       "      <td>1306</td>\n",
       "      <td>1</td>\n",
       "      <td>Oliva y Ocana, Dona. Fermina</td>\n",
       "      <td>female</td>\n",
       "      <td>39.0</td>\n",
       "      <td>0</td>\n",
       "      <td>0</td>\n",
       "      <td>PC 17758</td>\n",
       "      <td>108.9000</td>\n",
       "      <td>C105</td>\n",
       "      <td>C</td>\n",
       "    </tr>\n",
       "    <tr>\n",
       "      <th>415</th>\n",
       "      <td>1307</td>\n",
       "      <td>3</td>\n",
       "      <td>Saether, Mr. Simon Sivertsen</td>\n",
       "      <td>male</td>\n",
       "      <td>38.5</td>\n",
       "      <td>0</td>\n",
       "      <td>0</td>\n",
       "      <td>SOTON/O.Q. 3101262</td>\n",
       "      <td>7.2500</td>\n",
       "      <td>NaN</td>\n",
       "      <td>S</td>\n",
       "    </tr>\n",
       "    <tr>\n",
       "      <th>416</th>\n",
       "      <td>1308</td>\n",
       "      <td>3</td>\n",
       "      <td>Ware, Mr. Frederick</td>\n",
       "      <td>male</td>\n",
       "      <td>NaN</td>\n",
       "      <td>0</td>\n",
       "      <td>0</td>\n",
       "      <td>359309</td>\n",
       "      <td>8.0500</td>\n",
       "      <td>NaN</td>\n",
       "      <td>S</td>\n",
       "    </tr>\n",
       "    <tr>\n",
       "      <th>417</th>\n",
       "      <td>1309</td>\n",
       "      <td>3</td>\n",
       "      <td>Peter, Master. Michael J</td>\n",
       "      <td>male</td>\n",
       "      <td>NaN</td>\n",
       "      <td>1</td>\n",
       "      <td>1</td>\n",
       "      <td>2668</td>\n",
       "      <td>22.3583</td>\n",
       "      <td>NaN</td>\n",
       "      <td>C</td>\n",
       "    </tr>\n",
       "  </tbody>\n",
       "</table>\n",
       "<p>418 rows × 11 columns</p>\n",
       "</div>"
      ],
      "text/plain": [
       "     PassengerId  Pclass                                          Name  \\\n",
       "0            892       3                              Kelly, Mr. James   \n",
       "1            893       3              Wilkes, Mrs. James (Ellen Needs)   \n",
       "2            894       2                     Myles, Mr. Thomas Francis   \n",
       "3            895       3                              Wirz, Mr. Albert   \n",
       "4            896       3  Hirvonen, Mrs. Alexander (Helga E Lindqvist)   \n",
       "..           ...     ...                                           ...   \n",
       "413         1305       3                            Spector, Mr. Woolf   \n",
       "414         1306       1                  Oliva y Ocana, Dona. Fermina   \n",
       "415         1307       3                  Saether, Mr. Simon Sivertsen   \n",
       "416         1308       3                           Ware, Mr. Frederick   \n",
       "417         1309       3                      Peter, Master. Michael J   \n",
       "\n",
       "        Sex   Age  SibSp  Parch              Ticket      Fare Cabin Embarked  \n",
       "0      male  34.5      0      0              330911    7.8292   NaN        Q  \n",
       "1    female  47.0      1      0              363272    7.0000   NaN        S  \n",
       "2      male  62.0      0      0              240276    9.6875   NaN        Q  \n",
       "3      male  27.0      0      0              315154    8.6625   NaN        S  \n",
       "4    female  22.0      1      1             3101298   12.2875   NaN        S  \n",
       "..      ...   ...    ...    ...                 ...       ...   ...      ...  \n",
       "413    male   NaN      0      0           A.5. 3236    8.0500   NaN        S  \n",
       "414  female  39.0      0      0            PC 17758  108.9000  C105        C  \n",
       "415    male  38.5      0      0  SOTON/O.Q. 3101262    7.2500   NaN        S  \n",
       "416    male   NaN      0      0              359309    8.0500   NaN        S  \n",
       "417    male   NaN      1      1                2668   22.3583   NaN        C  \n",
       "\n",
       "[418 rows x 11 columns]"
      ]
     },
     "execution_count": 32,
     "metadata": {},
     "output_type": "execute_result"
    }
   ],
   "source": [
    "subdf = pd.read_csv('test.csv')\n",
    "subdf"
   ]
  },
  {
   "cell_type": "code",
   "execution_count": 33,
   "id": "431bbe48",
   "metadata": {},
   "outputs": [
    {
     "data": {
      "text/html": [
       "<div>\n",
       "<style scoped>\n",
       "    .dataframe tbody tr th:only-of-type {\n",
       "        vertical-align: middle;\n",
       "    }\n",
       "\n",
       "    .dataframe tbody tr th {\n",
       "        vertical-align: top;\n",
       "    }\n",
       "\n",
       "    .dataframe thead th {\n",
       "        text-align: right;\n",
       "    }\n",
       "</style>\n",
       "<table border=\"1\" class=\"dataframe\">\n",
       "  <thead>\n",
       "    <tr style=\"text-align: right;\">\n",
       "      <th></th>\n",
       "      <th>PassengerId</th>\n",
       "      <th>Pclass</th>\n",
       "      <th>Name</th>\n",
       "      <th>Sex</th>\n",
       "      <th>Age</th>\n",
       "      <th>SibSp</th>\n",
       "      <th>Parch</th>\n",
       "      <th>Ticket</th>\n",
       "      <th>Fare</th>\n",
       "      <th>Cabin</th>\n",
       "      <th>Embarked</th>\n",
       "      <th>FamilySize</th>\n",
       "      <th>Title</th>\n",
       "      <th>Score</th>\n",
       "      <th>Survived</th>\n",
       "    </tr>\n",
       "  </thead>\n",
       "  <tbody>\n",
       "    <tr>\n",
       "      <th>0</th>\n",
       "      <td>1142</td>\n",
       "      <td>0.472826</td>\n",
       "      <td>West, Miss. Barbara J</td>\n",
       "      <td>0.742038</td>\n",
       "      <td>0.612903</td>\n",
       "      <td>1</td>\n",
       "      <td>2</td>\n",
       "      <td>C.A. 34651</td>\n",
       "      <td>27.7500</td>\n",
       "      <td>0</td>\n",
       "      <td>S</td>\n",
       "      <td>0.724138</td>\n",
       "      <td>0.697802</td>\n",
       "      <td>3.249708</td>\n",
       "      <td>1</td>\n",
       "    </tr>\n",
       "    <tr>\n",
       "      <th>1</th>\n",
       "      <td>1188</td>\n",
       "      <td>0.472826</td>\n",
       "      <td>Laroche, Miss. Louise</td>\n",
       "      <td>0.742038</td>\n",
       "      <td>0.612903</td>\n",
       "      <td>1</td>\n",
       "      <td>2</td>\n",
       "      <td>SC/Paris 2123</td>\n",
       "      <td>41.5792</td>\n",
       "      <td>0</td>\n",
       "      <td>C</td>\n",
       "      <td>0.724138</td>\n",
       "      <td>0.697802</td>\n",
       "      <td>3.249708</td>\n",
       "      <td>1</td>\n",
       "    </tr>\n",
       "    <tr>\n",
       "      <th>2</th>\n",
       "      <td>984</td>\n",
       "      <td>0.629630</td>\n",
       "      <td>Davidson, Mrs. Thornton (Orian Hays)</td>\n",
       "      <td>0.742038</td>\n",
       "      <td>0.350000</td>\n",
       "      <td>1</td>\n",
       "      <td>2</td>\n",
       "      <td>F.C. 12750</td>\n",
       "      <td>52.0000</td>\n",
       "      <td>B71</td>\n",
       "      <td>S</td>\n",
       "      <td>0.724138</td>\n",
       "      <td>0.792000</td>\n",
       "      <td>3.237806</td>\n",
       "      <td>1</td>\n",
       "    </tr>\n",
       "    <tr>\n",
       "      <th>3</th>\n",
       "      <td>1070</td>\n",
       "      <td>0.472826</td>\n",
       "      <td>Becker, Mrs. Allen Oliver (Nellie E Baumgardner)</td>\n",
       "      <td>0.742038</td>\n",
       "      <td>0.437126</td>\n",
       "      <td>0</td>\n",
       "      <td>3</td>\n",
       "      <td>230136</td>\n",
       "      <td>39.0000</td>\n",
       "      <td>F4</td>\n",
       "      <td>S</td>\n",
       "      <td>0.724138</td>\n",
       "      <td>0.792000</td>\n",
       "      <td>3.168128</td>\n",
       "      <td>1</td>\n",
       "    </tr>\n",
       "    <tr>\n",
       "      <th>4</th>\n",
       "      <td>969</td>\n",
       "      <td>0.629630</td>\n",
       "      <td>Cornell, Mrs. Robert Clifford (Malvina Helen L...</td>\n",
       "      <td>0.742038</td>\n",
       "      <td>0.416667</td>\n",
       "      <td>2</td>\n",
       "      <td>0</td>\n",
       "      <td>11770</td>\n",
       "      <td>25.7000</td>\n",
       "      <td>C101</td>\n",
       "      <td>S</td>\n",
       "      <td>0.578431</td>\n",
       "      <td>0.792000</td>\n",
       "      <td>3.158766</td>\n",
       "      <td>1</td>\n",
       "    </tr>\n",
       "    <tr>\n",
       "      <th>...</th>\n",
       "      <td>...</td>\n",
       "      <td>...</td>\n",
       "      <td>...</td>\n",
       "      <td>...</td>\n",
       "      <td>...</td>\n",
       "      <td>...</td>\n",
       "      <td>...</td>\n",
       "      <td>...</td>\n",
       "      <td>...</td>\n",
       "      <td>...</td>\n",
       "      <td>...</td>\n",
       "      <td>...</td>\n",
       "      <td>...</td>\n",
       "      <td>...</td>\n",
       "      <td>...</td>\n",
       "    </tr>\n",
       "    <tr>\n",
       "      <th>413</th>\n",
       "      <td>1250</td>\n",
       "      <td>0.242363</td>\n",
       "      <td>O'Keefe, Mr. Patrick</td>\n",
       "      <td>0.188908</td>\n",
       "      <td>0.000000</td>\n",
       "      <td>0</td>\n",
       "      <td>0</td>\n",
       "      <td>368402</td>\n",
       "      <td>7.7500</td>\n",
       "      <td>0</td>\n",
       "      <td>Q</td>\n",
       "      <td>0.303538</td>\n",
       "      <td>0.156673</td>\n",
       "      <td>0.891482</td>\n",
       "      <td>0</td>\n",
       "    </tr>\n",
       "    <tr>\n",
       "      <th>414</th>\n",
       "      <td>1272</td>\n",
       "      <td>0.242363</td>\n",
       "      <td>O'Connor, Mr. Patrick</td>\n",
       "      <td>0.188908</td>\n",
       "      <td>0.000000</td>\n",
       "      <td>0</td>\n",
       "      <td>0</td>\n",
       "      <td>366713</td>\n",
       "      <td>7.7500</td>\n",
       "      <td>0</td>\n",
       "      <td>Q</td>\n",
       "      <td>0.303538</td>\n",
       "      <td>0.156673</td>\n",
       "      <td>0.891482</td>\n",
       "      <td>0</td>\n",
       "    </tr>\n",
       "    <tr>\n",
       "      <th>415</th>\n",
       "      <td>1305</td>\n",
       "      <td>0.242363</td>\n",
       "      <td>Spector, Mr. Woolf</td>\n",
       "      <td>0.188908</td>\n",
       "      <td>0.000000</td>\n",
       "      <td>0</td>\n",
       "      <td>0</td>\n",
       "      <td>A.5. 3236</td>\n",
       "      <td>8.0500</td>\n",
       "      <td>0</td>\n",
       "      <td>S</td>\n",
       "      <td>0.303538</td>\n",
       "      <td>0.156673</td>\n",
       "      <td>0.891482</td>\n",
       "      <td>0</td>\n",
       "    </tr>\n",
       "    <tr>\n",
       "      <th>416</th>\n",
       "      <td>1308</td>\n",
       "      <td>0.242363</td>\n",
       "      <td>Ware, Mr. Frederick</td>\n",
       "      <td>0.188908</td>\n",
       "      <td>0.000000</td>\n",
       "      <td>0</td>\n",
       "      <td>0</td>\n",
       "      <td>359309</td>\n",
       "      <td>8.0500</td>\n",
       "      <td>0</td>\n",
       "      <td>S</td>\n",
       "      <td>0.303538</td>\n",
       "      <td>0.156673</td>\n",
       "      <td>0.891482</td>\n",
       "      <td>0</td>\n",
       "    </tr>\n",
       "    <tr>\n",
       "      <th>417</th>\n",
       "      <td>1234</td>\n",
       "      <td>0.242363</td>\n",
       "      <td>Sage, Mr. John George</td>\n",
       "      <td>0.188908</td>\n",
       "      <td>0.000000</td>\n",
       "      <td>1</td>\n",
       "      <td>9</td>\n",
       "      <td>CA. 2343</td>\n",
       "      <td>69.5500</td>\n",
       "      <td>0</td>\n",
       "      <td>S</td>\n",
       "      <td>0.000000</td>\n",
       "      <td>0.156673</td>\n",
       "      <td>0.587944</td>\n",
       "      <td>0</td>\n",
       "    </tr>\n",
       "  </tbody>\n",
       "</table>\n",
       "<p>418 rows × 15 columns</p>\n",
       "</div>"
      ],
      "text/plain": [
       "     PassengerId    Pclass                                               Name  \\\n",
       "0           1142  0.472826                              West, Miss. Barbara J   \n",
       "1           1188  0.472826                              Laroche, Miss. Louise   \n",
       "2            984  0.629630               Davidson, Mrs. Thornton (Orian Hays)   \n",
       "3           1070  0.472826   Becker, Mrs. Allen Oliver (Nellie E Baumgardner)   \n",
       "4            969  0.629630  Cornell, Mrs. Robert Clifford (Malvina Helen L...   \n",
       "..           ...       ...                                                ...   \n",
       "413         1250  0.242363                               O'Keefe, Mr. Patrick   \n",
       "414         1272  0.242363                              O'Connor, Mr. Patrick   \n",
       "415         1305  0.242363                                 Spector, Mr. Woolf   \n",
       "416         1308  0.242363                                Ware, Mr. Frederick   \n",
       "417         1234  0.242363                              Sage, Mr. John George   \n",
       "\n",
       "          Sex       Age  SibSp  Parch         Ticket     Fare Cabin Embarked  \\\n",
       "0    0.742038  0.612903      1      2     C.A. 34651  27.7500     0        S   \n",
       "1    0.742038  0.612903      1      2  SC/Paris 2123  41.5792     0        C   \n",
       "2    0.742038  0.350000      1      2     F.C. 12750  52.0000   B71        S   \n",
       "3    0.742038  0.437126      0      3         230136  39.0000    F4        S   \n",
       "4    0.742038  0.416667      2      0          11770  25.7000  C101        S   \n",
       "..        ...       ...    ...    ...            ...      ...   ...      ...   \n",
       "413  0.188908  0.000000      0      0         368402   7.7500     0        Q   \n",
       "414  0.188908  0.000000      0      0         366713   7.7500     0        Q   \n",
       "415  0.188908  0.000000      0      0      A.5. 3236   8.0500     0        S   \n",
       "416  0.188908  0.000000      0      0         359309   8.0500     0        S   \n",
       "417  0.188908  0.000000      1      9       CA. 2343  69.5500     0        S   \n",
       "\n",
       "     FamilySize     Title     Score  Survived  \n",
       "0      0.724138  0.697802  3.249708         1  \n",
       "1      0.724138  0.697802  3.249708         1  \n",
       "2      0.724138  0.792000  3.237806         1  \n",
       "3      0.724138  0.792000  3.168128         1  \n",
       "4      0.578431  0.792000  3.158766         1  \n",
       "..          ...       ...       ...       ...  \n",
       "413    0.303538  0.156673  0.891482         0  \n",
       "414    0.303538  0.156673  0.891482         0  \n",
       "415    0.303538  0.156673  0.891482         0  \n",
       "416    0.303538  0.156673  0.891482         0  \n",
       "417    0.000000  0.156673  0.587944         0  \n",
       "\n",
       "[418 rows x 15 columns]"
      ]
     },
     "execution_count": 33,
     "metadata": {},
     "output_type": "execute_result"
    }
   ],
   "source": [
    "subdf['FamilySize'] = subdf.SibSp + subdf.Parch\n",
    "\n",
    "names = subdf['Name']\n",
    "titles = []\n",
    "\n",
    "for name in names:\n",
    "    splitted = name.split(',')[1]\n",
    "    splitted = splitted.split('.')[0]\n",
    "    titles.append(splitted)\n",
    "    \n",
    "titlesrs = pd.Series(titles)\n",
    "subdf['Title'] = titlesrs\n",
    "\n",
    "\n",
    "subdf['FamilySize'] = subdf['FamilySize'].map(df.groupby('FamilySize').Survived.mean())\n",
    "subdf.Pclass = subdf['Pclass'].map(df.groupby('Pclass').Survived.mean())\n",
    "subdf.Sex = subdf['Sex'].map(df.groupby('Sex').Survived.mean())\n",
    "\n",
    "condition = [(subdf.Age>=0) & (subdf.Age<10),(subdf.Age>=10) & (subdf.Age<20),(subdf.Age>=20) & (subdf.Age<30),(subdf.Age>=30) & (subdf.Age<40),(subdf.Age>=40) & (subdf.Age<50),\n",
    "            (subdf.Age>=50) & (subdf.Age<60),(subdf.Age>=60) & (subdf.Age<70),(subdf.Age>=70) & (subdf.Age<1000)]\n",
    "value = [alivebyage[0],alivebyage[1],alivebyage[2],alivebyage[3],alivebyage[4],alivebyage[5],alivebyage[6],0.14285714285714285]\n",
    "subdf.Age = np.select(condition,value)\n",
    "subdf.Title = subdf['Title'].map(df.groupby('Title').Survived.mean())\n",
    "\n",
    "subdf = subdf.fillna(0) # This didn't change my score\n",
    "\n",
    "subdf['Score'] = subdf.FamilySize + subdf.Pclass + subdf.Sex + subdf.Age + subdf.Title\n",
    "subdf = subdf.sort_values(by=['Score','Sex'],ascending=[False,False])\n",
    "subdf = subdf.reset_index(drop=True)\n",
    "\n",
    "condition = [subdf.index<158,subdf.index>=158]\n",
    "value = [1,0]\n",
    "subdf['Survived'] = np.select(condition,value)\n",
    "subdf"
   ]
  },
  {
   "cell_type": "code",
   "execution_count": 34,
   "id": "5f4f5da9",
   "metadata": {},
   "outputs": [],
   "source": [
    "# 418 * 0.3838383 is 160.4\n",
    "tocsv = subdf[['PassengerId','Survived']]\n",
    "tocsv = tocsv.sort_values(by=['PassengerId'],ascending=[True])\n",
    "#tocsv.to_csv('submission160.csv', index=False, header=True) # score is .77033 (better than .76555)\n",
    "#tocsv.to_csv('submission159.csv', index=False, header=True) # score is .77272\n",
    "tocsv.to_csv('submission158.csv', index=False, header=True) # score is .77511, high score\n",
    "# 157 is .77272 as well \n"
   ]
  },
  {
   "cell_type": "markdown",
   "id": "966635f1",
   "metadata": {},
   "source": [
    "Provide context to the meaning of your visuals or any performance metrics derived."
   ]
  }
 ],
 "metadata": {
  "interpreter": {
   "hash": "935b68aea91259da55ea4f599386993e0798bf3083d52c753e049ede9f5ba82b"
  },
  "kernelspec": {
   "display_name": "Python 3.9.7 64-bit",
   "language": "python",
   "name": "python3"
  },
  "language_info": {
   "codemirror_mode": {
    "name": "ipython",
    "version": 3
   },
   "file_extension": ".py",
   "mimetype": "text/x-python",
   "name": "python",
   "nbconvert_exporter": "python",
   "pygments_lexer": "ipython3",
   "version": "3.9.7"
  }
 },
 "nbformat": 4,
 "nbformat_minor": 5
}
